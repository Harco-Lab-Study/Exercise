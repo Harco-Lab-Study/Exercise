{
 "cells": [
  {
   "cell_type": "code",
   "execution_count": 1,
   "metadata": {},
   "outputs": [],
   "source": [
    "import numpy as np\n",
    "\n",
    "q_table={}\n",
    "\n",
    "action_space=['UP','DOWN','LEFT','RIGHT']\n",
    "\n",
    "# Q-table 초기화\n",
    "for x in range(5):\n",
    "    for y in range(5):\n",
    "        q_table[(x,y)] = {}\n",
    "        for action in action_space:\n",
    "            q_table[(x,y)][action] = 0"
   ]
  },
  {
   "cell_type": "code",
   "execution_count": 3,
   "metadata": {},
   "outputs": [],
   "source": [
    "q_table[(4,4)]['UP']=2"
   ]
  },
  {
   "cell_type": "code",
   "execution_count": 4,
   "metadata": {},
   "outputs": [
    {
     "data": {
      "text/plain": [
       "{(0, 0): {'UP': 0, 'DOWN': 0, 'LEFT': 0, 'RIGHT': 0},\n",
       " (0, 1): {'UP': 0, 'DOWN': 0, 'LEFT': 0, 'RIGHT': 0},\n",
       " (0, 2): {'UP': 0, 'DOWN': 0, 'LEFT': 0, 'RIGHT': 0},\n",
       " (0, 3): {'UP': 0, 'DOWN': 0, 'LEFT': 0, 'RIGHT': 0},\n",
       " (0, 4): {'UP': 0, 'DOWN': 0, 'LEFT': 0, 'RIGHT': 0},\n",
       " (1, 0): {'UP': 0, 'DOWN': 0, 'LEFT': 0, 'RIGHT': 0},\n",
       " (1, 1): {'UP': 0, 'DOWN': 0, 'LEFT': 0, 'RIGHT': 0},\n",
       " (1, 2): {'UP': 0, 'DOWN': 0, 'LEFT': 0, 'RIGHT': 0},\n",
       " (1, 3): {'UP': 0, 'DOWN': 0, 'LEFT': 0, 'RIGHT': 0},\n",
       " (1, 4): {'UP': 0, 'DOWN': 0, 'LEFT': 0, 'RIGHT': 0},\n",
       " (2, 0): {'UP': 0, 'DOWN': 0, 'LEFT': 0, 'RIGHT': 0},\n",
       " (2, 1): {'UP': 0, 'DOWN': 0, 'LEFT': 0, 'RIGHT': 0},\n",
       " (2, 2): {'UP': 0, 'DOWN': 0, 'LEFT': 0, 'RIGHT': 0},\n",
       " (2, 3): {'UP': 0, 'DOWN': 0, 'LEFT': 0, 'RIGHT': 0},\n",
       " (2, 4): {'UP': 0, 'DOWN': 0, 'LEFT': 0, 'RIGHT': 0},\n",
       " (3, 0): {'UP': 0, 'DOWN': 0, 'LEFT': 0, 'RIGHT': 0},\n",
       " (3, 1): {'UP': 0, 'DOWN': 0, 'LEFT': 0, 'RIGHT': 0},\n",
       " (3, 2): {'UP': 0, 'DOWN': 0, 'LEFT': 0, 'RIGHT': 0},\n",
       " (3, 3): {'UP': 0, 'DOWN': 0, 'LEFT': 0, 'RIGHT': 0},\n",
       " (3, 4): {'UP': 0, 'DOWN': 0, 'LEFT': 0, 'RIGHT': 0},\n",
       " (4, 0): {'UP': 0, 'DOWN': 0, 'LEFT': 0, 'RIGHT': 0},\n",
       " (4, 1): {'UP': 0, 'DOWN': 0, 'LEFT': 0, 'RIGHT': 0},\n",
       " (4, 2): {'UP': 0, 'DOWN': 0, 'LEFT': 0, 'RIGHT': 0},\n",
       " (4, 3): {'UP': 0, 'DOWN': 0, 'LEFT': 0, 'RIGHT': 0},\n",
       " (4, 4): {'UP': 2, 'DOWN': 0, 'LEFT': 0, 'RIGHT': 0}}"
      ]
     },
     "execution_count": 4,
     "metadata": {},
     "output_type": "execute_result"
    }
   ],
   "source": [
    "q_table"
   ]
  },
  {
   "cell_type": "code",
   "execution_count": 9,
   "metadata": {},
   "outputs": [
    {
     "data": {
      "text/plain": [
       "dict_values([0, 0, 0, 0])"
      ]
     },
     "execution_count": 9,
     "metadata": {},
     "output_type": "execute_result"
    }
   ],
   "source": [
    "q_table[(0,0)].values()"
   ]
  },
  {
   "cell_type": "code",
   "execution_count": 22,
   "metadata": {},
   "outputs": [],
   "source": [
    "import numpy as np\n",
    "\n",
    "q_table={}\n",
    "\n",
    "action_space=['UP','DOWN','LEFT','RIGHT']\n",
    "\n",
    "# Q-table 초기화\n",
    "for x in range(5):\n",
    "    for y in range(5):\n",
    "        q_table[(x,y)] = {}\n",
    "        for action in action_space:\n",
    "            q_table[(x,y)][action] = 0"
   ]
  },
  {
   "cell_type": "code",
   "execution_count": 23,
   "metadata": {},
   "outputs": [
    {
     "data": {
      "text/plain": [
       "{(0, 0): {'UP': 0, 'DOWN': 0, 'LEFT': 0, 'RIGHT': 0},\n",
       " (0, 1): {'UP': 0, 'DOWN': 0, 'LEFT': 0, 'RIGHT': 0},\n",
       " (0, 2): {'UP': 0, 'DOWN': 0, 'LEFT': 0, 'RIGHT': 0},\n",
       " (0, 3): {'UP': 0, 'DOWN': 0, 'LEFT': 0, 'RIGHT': 0},\n",
       " (0, 4): {'UP': 0, 'DOWN': 0, 'LEFT': 0, 'RIGHT': 0},\n",
       " (1, 0): {'UP': 0, 'DOWN': 0, 'LEFT': 0, 'RIGHT': 0},\n",
       " (1, 1): {'UP': 0, 'DOWN': 0, 'LEFT': 0, 'RIGHT': 0},\n",
       " (1, 2): {'UP': 0, 'DOWN': 0, 'LEFT': 0, 'RIGHT': 0},\n",
       " (1, 3): {'UP': 0, 'DOWN': 0, 'LEFT': 0, 'RIGHT': 0},\n",
       " (1, 4): {'UP': 0, 'DOWN': 0, 'LEFT': 0, 'RIGHT': 0},\n",
       " (2, 0): {'UP': 0, 'DOWN': 0, 'LEFT': 0, 'RIGHT': 0},\n",
       " (2, 1): {'UP': 0, 'DOWN': 0, 'LEFT': 0, 'RIGHT': 0},\n",
       " (2, 2): {'UP': 0, 'DOWN': 0, 'LEFT': 0, 'RIGHT': 0},\n",
       " (2, 3): {'UP': 0, 'DOWN': 0, 'LEFT': 0, 'RIGHT': 0},\n",
       " (2, 4): {'UP': 0, 'DOWN': 0, 'LEFT': 0, 'RIGHT': 0},\n",
       " (3, 0): {'UP': 0, 'DOWN': 0, 'LEFT': 0, 'RIGHT': 0},\n",
       " (3, 1): {'UP': 0, 'DOWN': 0, 'LEFT': 0, 'RIGHT': 0},\n",
       " (3, 2): {'UP': 0, 'DOWN': 0, 'LEFT': 0, 'RIGHT': 0},\n",
       " (3, 3): {'UP': 0, 'DOWN': 0, 'LEFT': 0, 'RIGHT': 0},\n",
       " (3, 4): {'UP': 0, 'DOWN': 0, 'LEFT': 0, 'RIGHT': 0},\n",
       " (4, 0): {'UP': 0, 'DOWN': 0, 'LEFT': 0, 'RIGHT': 0},\n",
       " (4, 1): {'UP': 0, 'DOWN': 0, 'LEFT': 0, 'RIGHT': 0},\n",
       " (4, 2): {'UP': 0, 'DOWN': 0, 'LEFT': 0, 'RIGHT': 0},\n",
       " (4, 3): {'UP': 0, 'DOWN': 0, 'LEFT': 0, 'RIGHT': 0},\n",
       " (4, 4): {'UP': 0, 'DOWN': 0, 'LEFT': 0, 'RIGHT': 0}}"
      ]
     },
     "execution_count": 23,
     "metadata": {},
     "output_type": "execute_result"
    }
   ],
   "source": [
    "q_table"
   ]
  },
  {
   "cell_type": "code",
   "execution_count": 29,
   "metadata": {},
   "outputs": [],
   "source": [
    "q_up = []\n",
    "q_down = []\n",
    "q_left = []\n",
    "q_right = []\n",
    "for q in q_table:\n",
    "    q_up.append(q_table[q]['UP'])\n",
    "    q_down.append(q_table[q]['DOWN'])\n",
    "    q_left.append(q_table[q]['LEFT'])\n",
    "    q_right.append(q_table[q]['RIGHT'])"
   ]
  },
  {
   "cell_type": "code",
   "execution_count": 31,
   "metadata": {},
   "outputs": [
    {
     "data": {
      "text/plain": [
       "array([[0, 0, 0, 0, 0],\n",
       "       [0, 0, 0, 0, 0],\n",
       "       [0, 0, 0, 0, 0],\n",
       "       [0, 0, 0, 0, 0],\n",
       "       [0, 0, 0, 0, 0]])"
      ]
     },
     "execution_count": 31,
     "metadata": {},
     "output_type": "execute_result"
    }
   ],
   "source": [
    "np.array(q_up).reshape(5,5)"
   ]
  },
  {
   "cell_type": "code",
   "execution_count": null,
   "metadata": {},
   "outputs": [],
   "source": []
  }
 ],
 "metadata": {
  "kernelspec": {
   "display_name": "autogpt",
   "language": "python",
   "name": "python3"
  },
  "language_info": {
   "codemirror_mode": {
    "name": "ipython",
    "version": 3
   },
   "file_extension": ".py",
   "mimetype": "text/x-python",
   "name": "python",
   "nbconvert_exporter": "python",
   "pygments_lexer": "ipython3",
   "version": "3.7.12"
  },
  "orig_nbformat": 4
 },
 "nbformat": 4,
 "nbformat_minor": 2
}
